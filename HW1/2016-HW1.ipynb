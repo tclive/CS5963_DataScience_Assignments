{
 "cells": [
  {
   "cell_type": "markdown",
   "metadata": {},
   "source": [
    "# Introduction to Data Science - Homework 1\n",
    "*CS 5963 / MATH 3900, University of Utah, http://datasciencecourse.net/*\n",
    "\n",
    "Due: Friday, September 2, 11:59pm.\n",
    "\n",
    "This homework is designed to practice the skills we learned in Lab 1: working with loops, conditions, functions, and the built-in Python data structures. Make sure to go through the lab again in case you have any troubles.\n",
    "\n",
    "In this homework we'll do some calculations that are also available in various libraries. For the purpose of this homework, however, **stick to standard python functionality and the math library** and re-implement, e.g., the functionality for calculating the mean of a vector instead of just calling a mean function. \n",
    "\n",
    "However, we encourage you to check your results using, e.g., the [NumPy library](http://docs.scipy.org/doc/numpy-1.11.0/reference/routines.statistics.html) and include the checks as a separate code cell. "
   ]
  },
  {
   "cell_type": "markdown",
   "metadata": {},
   "source": [
    "## Your Data\n",
    "Fill out the following information: \n",
    "\n",
    "*First Name:*   \n",
    "*Last Name:*   \n",
    "*E-mail:*   \n",
    "*UID:*  \n"
   ]
  },
  {
   "cell_type": "markdown",
   "metadata": {},
   "source": [
    "## Part 1: Vector data"
   ]
  },
  {
   "cell_type": "markdown",
   "metadata": {},
   "source": [
    "We first will work with a vector of yearly average temperatures from New Haven published [here](https://vincentarelbundock.github.io/Rdatasets/datasets.html). The data is included in this repository in the file `nhtmep.csv`.\n",
    "\n",
    "The data is stored in the CSV format, which is a simple textfile with 'Comma Seperated Values'.\n",
    "To load the data to into a (nested) python array, we use the [csv](https://docs.python.org/3/library/csv.html) library. The following code reads the file and stores it in a vector:"
   ]
  },
  {
   "cell_type": "code",
   "execution_count": 2,
   "metadata": {
    "collapsed": false
   },
   "outputs": [
    {
     "name": "stdout",
     "output_type": "stream",
     "text": [
      "49.9\n",
      "[47.9, 48.4, 48.8, 49.3, 49.3, 49.4, 49.4, 49.6, 49.8, 49.8, 49.9, 50.2, 50.2, 50.4, 50.5, 50.6, 50.6, 50.6, 50.7, 50.8, 50.8, 50.9, 50.9, 50.9, 50.9, 50.9, 51.0, 51.0, 51.1, 51.1, 51.3, 51.4, 51.4, 51.5, 51.5, 51.6, 51.6, 51.7, 51.7, 51.7, 51.7, 51.8, 51.8, 51.8, 51.9, 51.9, 51.9, 51.9, 52.0, 52.0, 52.1, 52.3, 52.6, 52.6, 52.7, 52.8, 53.0, 53.1, 54.0, 54.6]\n"
     ]
    }
   ],
   "source": [
    "# import the csv library\n",
    "import csv\n",
    "# import the math library we'll use later\n",
    "import math\n",
    "\n",
    "# initialize the array\n",
    "temperature_vector = []\n",
    "\n",
    "# open the file and append the values of the last column to the array\n",
    "with open('nhtemp.csv') as csvfile:\n",
    "    filereader = csv.reader(csvfile, delimiter=',', quotechar='|')\n",
    "    # remove the first item as it is the title.\n",
    "    next(filereader)\n",
    "    for row in filereader:\n",
    "        # here we append to the array and also cast from string to float\n",
    "        temperature_vector.append(float(row[2]))\n",
    "        \n",
    "# print the vector to see if it worked\n",
    "\n",
    "a = 0\n",
    "print (temperature_vector[a])\n",
    "print(sorted(temperature_vector))"
   ]
  },
  {
   "cell_type": "markdown",
   "metadata": {},
   "source": [
    "We'll use the `temperature_vector` to calculate a couple of standard statistical measures next."
   ]
  },
  {
   "cell_type": "markdown",
   "metadata": {},
   "source": [
    "### Task 1.1: Calculate the Mean of a Vector\n",
    "\n",
    "Write a function that calculates and returns the [arithmetic mean](https://en.wikipedia.org/wiki/Arithmetic_mean) of a vector that you pass into it. \n",
    "\n",
    "Pass the temperature vector into this function and print the result. Provide a written interpretation of your results (e.g., \"The mean temperature for New Haven for the years 1912 to 1971 is XXX degrees Fahrenheit.\")"
   ]
  },
  {
   "cell_type": "code",
   "execution_count": 3,
   "metadata": {
    "collapsed": false
   },
   "outputs": [
    {
     "data": {
      "text/plain": [
       "51.16"
      ]
     },
     "execution_count": 3,
     "metadata": {},
     "output_type": "execute_result"
    }
   ],
   "source": [
    "#import numpy\n",
    "\n",
    "def mean(temp_list):\n",
    "    temp_total = 0.0\n",
    "    \n",
    "    for temp in temp_list:\n",
    "        temp_total += temp\n",
    "        \n",
    "    return temp_total/len(temp_list)\n",
    "\n",
    "mean(temperature_vector)\n",
    "    "
   ]
  },
  {
   "cell_type": "markdown",
   "metadata": {},
   "source": [
    "**Your Interpretation:**\n",
    "\n",
    "The mean function defined here takes each sequence in the list and adds all of their values which are stored in the variable temp_total. The sum of all of these values is then divided by the number of these values, determined by the length of the list."
   ]
  },
  {
   "cell_type": "markdown",
   "metadata": {},
   "source": [
    "### Task 1.2: Calculate the Median of a Vector\n",
    "Write a function that calculates and returns the [median](https://en.wikipedia.org/wiki/Median) of a vector. Pass the temperature vector into this function and print the result. Make sure that your function works for both, functions with an even and with an odd number of elements. In case of an even number of elements, use the mean of the two middle values. Provide a written interpretation of your results.\n",
    "\n",
    "Hint: the [`sorted()`](https://docs.python.org/3/library/functions.html#sorted) function might be helpful for this."
   ]
  },
  {
   "cell_type": "code",
   "execution_count": 4,
   "metadata": {
    "collapsed": false
   },
   "outputs": [
    {
     "data": {
      "text/plain": [
       "51.2"
      ]
     },
     "execution_count": 4,
     "metadata": {},
     "output_type": "execute_result"
    }
   ],
   "source": [
    "## your code goes here\n",
    "\n",
    "def median(temp_list):\n",
    "    sorted_temp = sorted(temp_list)\n",
    "    median = 0\n",
    "    \n",
    "    if (len(temp_list)%2==0):\n",
    "        return((sorted_temp[int(len(sorted_temp)/2)-1]+sorted_temp[int(len(sorted_temp)/2)])/2)\n",
    "        \n",
    "    #elif len(temperature_vector%2==1): \n",
    "    else: \n",
    "        return(sorted_temp[len(sorted_temp)//2])\n",
    "\n",
    "\n",
    "#import numpy\n",
    "\n",
    "#numpy.median(temperature_vector)\n",
    "\n",
    "\n",
    "# the call to your function\n",
    "median(temperature_vector)"
   ]
  },
  {
   "cell_type": "markdown",
   "metadata": {},
   "source": [
    "**Your Interpretation:**\n",
    "\n",
    "The median function first sorts all of the values from least to greatest using the sorted function. If the length of the list is even (determined by length divided by two, remainder == 0) then the middle numbers (at positions length/2 and (length/2)-1) are averaged by adding them and dividing them by two. We subtract one of the middle numbers' value by one because the positions are numbered starting at 0 and doing this will return the two middle numbers in an even list.\n",
    "\n",
    "This is confusing so I'll give an example:\n",
    "\n",
    "Imagine an even list containing numbers 1,2,3,4,5,6,:\n",
    "\n",
    "list length = 6\n",
    "\n",
    "following the said formula returns number 3 (at postion 2) and 4 (at position 3). Then adding and dividing them by two returns the median 3.5.\n",
    "\n",
    "Otherwise, if the length list is odd, we divide the length by two and round down using the floor function '//'. This will return a rounded-down integer instead of a '.5' (For example, 7 // 2 = 3, not 3.5). If the list of numbers contains 1,2,3,4,5,6,7 then the integer returned is 3. The median number returned at position 3 is 4, which is the fourth number on the list. \n",
    " "
   ]
  },
  {
   "cell_type": "markdown",
   "metadata": {},
   "source": [
    "### Task 1.3: Calculate the Standard Deviation of a Vector\n",
    "\n",
    "Write a function that calculates and returns the [standard deviation](https://en.wikipedia.org/wiki/Standard_deviation) of a vector. Pass the temperature vector into this function and print the result. Provide a written interpretation of your results.\n",
    "\n",
    "The standard deviation is the square root of the average of the squared deviations from the mean, i.e.,\n",
    "\n",
    "$$\\sigma = \\sqrt{\\frac{1}{N} \\sum_{i=1}^{N} {{(x_i - \\mu)}^2} }$$\n",
    "\n",
    "where $\\mu$ is the mean of the vector. Hint: use your mean function to calculate it."
   ]
  },
  {
   "cell_type": "markdown",
   "metadata": {},
   "source": [
    "Hint: the `sqrt()` function from the [`math library`](https://docs.python.org/3/library/math.html) might be helpful for this. If you use a seperate file you need to load the library as we did in Part 1 to read in the data. The import looks like this:"
   ]
  },
  {
   "cell_type": "code",
   "execution_count": 5,
   "metadata": {
    "collapsed": false
   },
   "outputs": [
    {
     "data": {
      "text/plain": [
       "1.2550166001558176"
      ]
     },
     "execution_count": 5,
     "metadata": {},
     "output_type": "execute_result"
    }
   ],
   "source": [
    "import math\n",
    "\n",
    "def standard_deviation(temp_list):\n",
    "    temp_vector_mean = mean(temp_list)\n",
    "    total = 0.0\n",
    "    \n",
    "    \n",
    "    for temp in temp_list:\n",
    "        total += (temp-temp_vector_mean) ** 2\n",
    "        \n",
    "    return math.sqrt(total/len(temp_list))\n",
    "\n",
    "        \n",
    "# the call to your function\n",
    "standard_deviation(temperature_vector)"
   ]
  },
  {
   "cell_type": "markdown",
   "metadata": {},
   "source": [
    "**Your Interpretation:**\n",
    "\n",
    "For the standard_deviation function, temp_vector_mean is a variable created using the mean() function created in the exercise above. The for loop allows each number in the list to be subtracted from the mean to find the difference. The difference squared is stored in a variable called total.\n",
    "\n",
    "The standard deviation is found by getting the square root of total after total is divided by n (determined by length function of list).\n"
   ]
  },
  {
   "cell_type": "markdown",
   "metadata": {},
   "source": [
    "### Task 1.4: Histogram\n",
    "\n",
    "Write a function that takes a vector and an integer `b` and calculates a [histogram](https://en.wikipedia.org/wiki/Histogram) with `b` bins. The function should return an array containing two arrays. The first should be the counts for each bin, the second should contain the borders of the bins.\n",
    "\n",
    "For `b=5` your output should look like this: \n",
    "\n",
    "`[[3, 12, 33, 10, 2], [47.9, 49.24, 50.58, 51.92, 53.26, 54.6]]`\n",
    "\n",
    "Here, the first array gives the size of these bins, the second defines the bands. I.e., the first band from 47.9-49.24 has 3 entries, the second, from 49.24-50.58 has 12 entries, etc. \n",
    "\n",
    "Provide a written interpretation of your results. Comment on whether the histogram is skewed, and if so, in which direction."
   ]
  },
  {
   "cell_type": "code",
   "execution_count": 63,
   "metadata": {
    "collapsed": false
   },
   "outputs": [
    {
     "data": {
      "text/plain": [
       "[[3, 12, 33, 10, 2], [47.9, 49.24, 50.58, 51.92, 53.26, 54.6]]"
      ]
     },
     "execution_count": 63,
     "metadata": {},
     "output_type": "execute_result"
    }
   ],
   "source": [
    "def histogram(temp_list, number_of_bins):\n",
    "    \n",
    "    min_temp = min(temp_list)\n",
    "    max_temp = max(temp_list)\n",
    "    temp_range = max_temp - min_temp\n",
    "    bin_width = temp_range / number_of_bins\n",
    "    \n",
    "    \n",
    "    borders = []\n",
    "    \n",
    "    for counter in range(number_of_bins + 1):\n",
    "        borders.append(min_temp + counter*bin_width)\n",
    "    \n",
    "    a = 0\n",
    "    b = 1\n",
    "    \n",
    "    #return borders\n",
    "    \n",
    "    occurrences = [0] * number_of_bins\n",
    "    \n",
    "    #for temp in temp_list:\n",
    "        #for counter in range(number_of_bins):\n",
    "\n",
    "            #print(\"Counter is {}\", counter)\n",
    "            \n",
    "            #year refers to position in the list\n",
    "            \n",
    "    year = 0\n",
    "    list_length = len(temp_list)\n",
    "\n",
    "\n",
    "    while year < list_length:\n",
    "\n",
    "        if temp_list[year] >= (min_temp + (bin_width * a)) and temp_list[year] < (min_temp + bin_width * b):\n",
    "            occurrences[a] +=1\n",
    "            a = 0\n",
    "            b = 1\n",
    "            year += 1\n",
    "        \n",
    "        elif temp_list[year]==max_temp:\n",
    "\n",
    "            occurrences[number_of_bins-1] += 1\n",
    "            a = 0\n",
    "            b = 1\n",
    "            year += 1\n",
    "            \n",
    "        else:\n",
    "            a += 1\n",
    "            b += 1  \n",
    "                    \n",
    "    return [occurrences, borders]\n",
    "\n",
    "    \n",
    "        #range(number_of_bins)\n",
    "\n",
    "\n",
    "\n",
    "# the call to your function\n",
    "histogram(temperature_vector, 5)\n",
    "#print(range(5))"
   ]
  },
  {
   "cell_type": "markdown",
   "metadata": {},
   "source": [
    "**Your interpretation:** \n",
    "\n",
    "This function takes as parameters a list of data and the number of quantiles (or \"bins\") you want to be displayed in your histogram. \n",
    "\n",
    "I defined important variables first and then wrote the code:\n",
    "\n",
    "min_temp: uses the min() function to return the minimum temperature value on the list\n",
    "max_temp: uses the max() function ...\n",
    "temp_range = max_temp minus min_temp to find the spread of the data\n",
    "bin_width: the entire spread of the data divided by the number of bins. (For example, if the spread were 10 and the number of bins were 5, then the width of each bin would be 2)\n",
    "\n",
    "\n",
    "I wrote the function for borders first, the second-listed function, because after you define where the borders are, then you can define how many data points fall within each bin.\n",
    "\n",
    "borders function:\n",
    "\n",
    "First we create a counter based on the range but we add one because n+1 borders make n bins. Then we create a for loop based on the counter, which counter multiplies how many bin_widths we want to add to min_temp. The counter starts at 0 so zero bin_widths are added to the min_temp as the first value. Then n more bin_widths are added.\n",
    "\n",
    "\n",
    "that creates (n+1) values for where the borders of the bins will be, starting at min_temp + (bin_widths * 0), until min_temp + (bin_widths * 5).\n",
    "\n",
    "\n",
    "occurences function:\n",
    "\n",
    "The occurences function measures how many occurences that a temperature fits in each bin. To do so, I created a list called occurences that is long as the number of bins. Then I created a while loop that iterates through the values of the temp_list (variable called year). If the year is not within the range of the first bin, then the while loop incements to the parameters of the next bin. Once the value finds the right bin, that bin is incremented by one, the \"year\" position is incremented by one, and the next value is placed in its respective bin."
   ]
  },
  {
   "cell_type": "markdown",
   "metadata": {},
   "source": [
    "### Task 1.5: Filtering\n",
    "Write a function that takes a vector and returns a vector that contains every other element of the original vector. Print the result of the function as applied to the temperature vector.\n",
    "\n",
    "Hint: slicing might be helpful here."
   ]
  },
  {
   "cell_type": "code",
   "execution_count": 37,
   "metadata": {
    "collapsed": false
   },
   "outputs": [
    {
     "data": {
      "text/plain": [
       "[49.9,\n",
       " 49.4,\n",
       " 49.4,\n",
       " 49.8,\n",
       " 49.3,\n",
       " 50.8,\n",
       " 49.3,\n",
       " 48.4,\n",
       " 50.9,\n",
       " 51.5,\n",
       " 51.8,\n",
       " 49.8,\n",
       " 50.4,\n",
       " 51.8,\n",
       " 48.8,\n",
       " 51.0,\n",
       " 51.7,\n",
       " 52.1,\n",
       " 51.0,\n",
       " 51.4,\n",
       " 53.1,\n",
       " 52.0,\n",
       " 50.9,\n",
       " 50.2,\n",
       " 51.6,\n",
       " 50.5,\n",
       " 51.7,\n",
       " 51.7,\n",
       " 51.9,\n",
       " 51.9]"
      ]
     },
     "execution_count": 37,
     "metadata": {},
     "output_type": "execute_result"
    }
   ],
   "source": [
    "def skip(a):\n",
    "    \n",
    "    every_other = []\n",
    "    for counter in range(len(a)):\n",
    "        if counter %2 == 0:\n",
    "            every_other.append(a[counter])\n",
    "            \n",
    "    return every_other\n",
    "\n",
    "skip(temperature_vector)"
   ]
  },
  {
   "cell_type": "markdown",
   "metadata": {},
   "source": [
    "## Part 2: Working with Matrices"
   ]
  },
  {
   "cell_type": "markdown",
   "metadata": {},
   "source": [
    "For the second part of the homework, we are going to work with matrices. The [dataset we will use](https://www.wunderground.com/history/airport/KSLC/2015/1/1/CustomHistory.html?dayend=31&monthend=12&yearend=2015&req_city=&req_state=&req_statename=&reqdb.zip=&reqdb.magic=&reqdb.wmo=) contains different properties of the weather in Salt Lake City for 2015 (temperature, humidity, sea level, ...). It is stored in the file [`SLC_2015.csv`](SLC_2015.csv) in this repository."
   ]
  },
  {
   "cell_type": "markdown",
   "metadata": {},
   "source": [
    "We first read the data from the file and store it in a nested python array (`weather_matrix`). A nested python array is an array, where each element is an array itself. Here is a simple example: "
   ]
  },
  {
   "cell_type": "code",
   "execution_count": null,
   "metadata": {
    "collapsed": false
   },
   "outputs": [],
   "source": [
    "arr1 = [1,2,3]\n",
    "arr2 = ['a', 'b', 'c']\n",
    "\n",
    "nestedArr = [arr1, arr2]\n",
    "nestedArr"
   ]
  },
  {
   "cell_type": "markdown",
   "metadata": {},
   "source": [
    "We provide you with the data import code, which will write the data into the nested list `temperature_matrix`. The list contains one list for each month, which, in turn, contain the mean temparature of every day of that month. "
   ]
  },
  {
   "cell_type": "code",
   "execution_count": 38,
   "metadata": {
    "collapsed": false
   },
   "outputs": [
    {
     "name": "stdout",
     "output_type": "stream",
     "text": [
      "[[15, 19, 26, 28, 37, 38, 38, 36, 35, 31, 39, 36, 35, 30, 31, 31, 37, 44, 40, 35, 31, 31, 31, 33, 42, 41, 44, 42, 36, 40, 39], [39, 49, 50, 50, 53, 57, 60, 53, 55, 45, 43, 47, 46, 48, 43, 40, 38, 44, 47, 44, 39, 33, 31, 35, 44, 35, 37, 36], [40, 37, 34, 33, 39, 43, 45, 45, 46, 50, 54, 50, 51, 56, 62, 63, 61, 53, 47, 53, 57, 54, 52, 47, 42, 48, 56, 62, 53, 57, 63], [46, 44, 44, 54, 60, 50, 52, 46, 49, 53, 58, 50, 57, 56, 33, 44, 50, 54, 56, 56, 60, 61, 61, 59, 51, 46, 50, 57, 65, 63], [63, 71, 68, 67, 62, 59, 58, 57, 49, 53, 59, 68, 65, 65, 53, 48, 56, 58, 55, 59, 58, 58, 55, 57, 62, 59, 61, 61, 64, 71, 76], [80, 68, 69, 68, 69, 70, 66, 73, 77, 78, 72, 74, 75, 76, 81, 77, 78, 83, 83, 78, 81, 78, 78, 83, 82, 84, 87, 88, 91, 89], [87, 87, 87, 89, 79, 79, 76, 75, 73, 72, 77, 79, 81, 77, 80, 80, 79, 74, 74, 73, 76, 77, 75, 78, 78, 84, 77, 66, 70, 76, 79], [80, 79, 69, 76, 82, 74, 76, 69, 72, 79, 83, 81, 83, 88, 83, 79, 77, 72, 74, 76, 81, 74, 76, 84, 85, 78, 77, 80, 85, 82, 75], [82, 83, 82, 80, 75, 60, 65, 66, 71, 73, 74, 76, 76, 74, 65, 57, 59, 56, 60, 65, 69, 71, 73, 72, 77, 79, 79, 74, 73, 77], [78, 64, 61, 62, 64, 65, 62, 65, 64, 69, 70, 64, 65, 67, 66, 66, 69, 66, 62, 56, 57, 55, 54, 57, 58, 58, 51, 49, 50, 45, 57], [61, 61, 53, 41, 39, 40, 40, 44, 51, 36, 40, 42, 41, 43, 48, 39, 32, 41, 42, 39, 34, 34, 35, 40, 45, 32, 28, 25, 25, 28], [29, 29, 32, 35, 36, 38, 37, 45, 51, 47, 37, 35, 36, 31, 26, 30, 23, 35, 41, 36, 38, 38, 31, 30, 23, 19, 17, 19, 21, 21, 12]]\n",
      "Mean temp on August 23: 76\n"
     ]
    }
   ],
   "source": [
    "# initialzie the 12 arrays for the months\n",
    "temperature_matrix = [[] for i in range(12)]\n",
    "\n",
    "# open the file and append the values of the last column to the array\n",
    "with open('SLC_2015.csv') as csvfile:\n",
    "    filereader = csv.reader(csvfile, delimiter=',', quotechar='|')\n",
    "    # get rid of the header\n",
    "    next(filereader)\n",
    "    for row in filereader:\n",
    "        month = int(row[0].split('/')[0])\n",
    "        mean_temp = int(row[2])\n",
    "        temperature_matrix[month-1].append(mean_temp)\n",
    "\n",
    "print(temperature_matrix)\n",
    "\n",
    "# the mean tempertarure on August 23. Note the index offset:\n",
    "print(\"Mean temp on August 23: \" + str(temperature_matrix[7][22]))\n"
   ]
  },
  {
   "cell_type": "markdown",
   "metadata": {},
   "source": [
    "We will now use the nested array `temperature_matrix` to compute the same metrics as in Part 1.\n",
    "\n",
    "**Note:** Since the lists in the matrix are of varying lengths (28 to 31 days) many of the standard NumPy functions won't work."
   ]
  },
  {
   "cell_type": "markdown",
   "metadata": {},
   "source": [
    "### Task 2.1: Calculates the mean of a whole matrix\n",
    "\n",
    "Write a function that calculates the mean of a matrix. For this version calculate the mean over all elements in the matrix as if it was one large vector. \n",
    "Pass in the matrix with the weather data and return the result. Provide a written interpretation of your results.\n",
    "Can you use your function from Part 1 and get a valid result?"
   ]
  },
  {
   "cell_type": "code",
   "execution_count": 48,
   "metadata": {
    "collapsed": false
   },
   "outputs": [
    {
     "data": {
      "text/plain": [
       "56.76712328767123"
      ]
     },
     "execution_count": 48,
     "metadata": {},
     "output_type": "execute_result"
    }
   ],
   "source": [
    "def mean_matrix(temp_matrix):\n",
    "    \n",
    "    #temp_sum = 0.0\n",
    "    mean_temp = 0.0\n",
    "    flat_list = []\n",
    "       \n",
    "    for temp_list in temp_matrix:\n",
    "        \n",
    "        for temp in temp_list:\n",
    "            flat_list.append(temp)        \n",
    "        \n",
    "    mean_temp = mean(flat_list)\n",
    "    \n",
    "    return mean_temp\n",
    "\n",
    "    flat_list = []\n",
    "    \n",
    "\n",
    "# the call to your function\n",
    "mean_matrix(temperature_matrix)"
   ]
  },
  {
   "cell_type": "markdown",
   "metadata": {},
   "source": [
    "**Your Interpretation:** \n",
    "\n",
    "This function iterates through the rows of a matrix and appends all of the values into one long list. Then it adds up all the values, divides them by how many values there are and returns the mean."
   ]
  },
  {
   "cell_type": "markdown",
   "metadata": {},
   "source": [
    "### Task 2.2:  Calculate the mean of each vector of a matrix\n",
    "\n",
    "Write a function that calculates the mean temperature of each month and returns an array with the means for each column. Provide a written interpretation of your results. Can you use the function you implemented in Part 1 here efficiently? If so, use it."
   ]
  },
  {
   "cell_type": "code",
   "execution_count": 53,
   "metadata": {
    "collapsed": false
   },
   "outputs": [
    {
     "data": {
      "text/plain": [
       "[34.54838709677419,\n",
       " 44.32142857142857,\n",
       " 50.096774193548384,\n",
       " 52.833333333333336,\n",
       " 60.483870967741936,\n",
       " 77.86666666666666,\n",
       " 77.87096774193549,\n",
       " 78.35483870967742,\n",
       " 71.43333333333334,\n",
       " 61.16129032258065,\n",
       " 39.96666666666667,\n",
       " 31.548387096774192]"
      ]
     },
     "execution_count": 53,
     "metadata": {},
     "output_type": "execute_result"
    }
   ],
   "source": [
    "def mean_matrix_columns(temp_matrix):\n",
    "    \n",
    "    temp_sum = 0.0\n",
    "    vector_mean = 0.0\n",
    "    mean_values = []   \n",
    "        \n",
    "    for temp_list in temp_matrix:\n",
    "        mean_values.append(mean(temp_list))\n",
    "    \n",
    "    return mean_values\n",
    "    \n",
    "\n",
    "# the call to your function\n",
    "mean_matrix_columns(temperature_matrix)"
   ]
  },
  {
   "cell_type": "markdown",
   "metadata": {},
   "source": [
    "**Your Interpretation:**\n",
    "\n",
    "This function is similar to the one above it but instead of returning the mean of all values as a single number, it returns the mean of all rows in a list. A matrix is a list of lists, but the return value here is just a list of means. "
   ]
  },
  {
   "cell_type": "markdown",
   "metadata": {},
   "source": [
    "### Task 2.3:  Calculate the median of a whole matrix\n",
    "\n",
    "Write a function that calculates and returns the median of a matrix over all values (independent from which row they are coming) and returns it. Provide a written interpretation of your results. Can you use your function from Part 1 and get a valid result?"
   ]
  },
  {
   "cell_type": "code",
   "execution_count": 58,
   "metadata": {
    "collapsed": false
   },
   "outputs": [
    {
     "data": {
      "text/plain": [
       "57"
      ]
     },
     "execution_count": 58,
     "metadata": {},
     "output_type": "execute_result"
    }
   ],
   "source": [
    "def median_matrix(temp_matrix):\n",
    "    \n",
    "    #temp_sum = 0.0\n",
    "    median_temp = 0.0\n",
    "    flat_list = []\n",
    "       \n",
    "    for temp_list in temp_matrix:\n",
    "        \n",
    "        for temp in temp_list:\n",
    "            flat_list.append(temp)        \n",
    "        \n",
    "    median_temp = median(flat_list) \n",
    "    \n",
    "    return median_temp\n",
    "\n",
    "    flat_list = []\n",
    "    \n",
    "# the call to your function\n",
    "median_matrix(temperature_matrix)"
   ]
  },
  {
   "cell_type": "markdown",
   "metadata": {},
   "source": [
    "**Your Interpretation:**\n",
    "\n",
    "Uses same formula structure as mean_matrix but uses median() function instead."
   ]
  },
  {
   "cell_type": "markdown",
   "metadata": {},
   "source": [
    "### Task 2.4: Calculate the median of each vector of a matrix\n",
    "\n",
    "Write a function that calculates the median of each sub array (i.e. each column in the csv file) in the matrix and returns an array of medians (one entry for column in the csv file). To do so, use the function you implemented in Part 1. Provide a written interpretation of your results. "
   ]
  },
  {
   "cell_type": "code",
   "execution_count": 57,
   "metadata": {
    "collapsed": false
   },
   "outputs": [
    {
     "data": {
      "text/plain": [
       "[36, 44.0, 51, 53.5, 59, 78.0, 77, 79, 73.0, 62, 40.0, 32]"
      ]
     },
     "execution_count": 57,
     "metadata": {},
     "output_type": "execute_result"
    }
   ],
   "source": [
    "def median_matrix_columns(temp_matrix):\n",
    "    \n",
    "    temp_sum = 0.0\n",
    "    vector_mean = 0.0\n",
    "    median_values = []   \n",
    "        \n",
    "    for temp_list in temp_matrix:\n",
    "        median_values.append(median(temp_list))\n",
    "    \n",
    "    return median_values\n",
    "    \n",
    "median_matrix_columns(temperature_matrix)"
   ]
  },
  {
   "cell_type": "markdown",
   "metadata": {},
   "source": [
    "**Your Interpretation:**\n",
    "\n",
    "Uses same formula structure as mean_matrix_columns but uses median() function instead."
   ]
  },
  {
   "cell_type": "markdown",
   "metadata": {},
   "source": [
    "### Task 2.5: Calculate the standard deviation of a whole matrix\n",
    "\n",
    "Write a function that calculates the standard deviation of a matrix over all values in the matrix (ignoring from which column they were coming) and returns it. Can you use your function from Part 1 and get a valid result? Provide a written interpretation of your results. "
   ]
  },
  {
   "cell_type": "code",
   "execution_count": 61,
   "metadata": {
    "collapsed": false
   },
   "outputs": [
    {
     "data": {
      "text/plain": [
       "17.908994103709954"
      ]
     },
     "execution_count": 61,
     "metadata": {},
     "output_type": "execute_result"
    }
   ],
   "source": [
    "def standard_deviation_matrix(temp_matrix):\n",
    "    \n",
    "    #temp_sum = 0.0\n",
    "    std_dev = 0.0\n",
    "    flat_list = []\n",
    "       \n",
    "    for temp_list in temp_matrix:\n",
    "        \n",
    "        for temp in temp_list:\n",
    "            flat_list.append(temp)        \n",
    "        \n",
    "    std_dev = standard_deviation(flat_list)\n",
    "    \n",
    "    return std_dev\n",
    "\n",
    "    flat_list = []\n",
    "    \n",
    "# the call to your function\n",
    "standard_deviation_matrix(temperature_matrix)"
   ]
  },
  {
   "cell_type": "markdown",
   "metadata": {},
   "source": [
    "**Your Interpretation:**\n",
    "\n",
    "Uses same formula structure as mean_matrix but uses standard_deviation() function instead."
   ]
  },
  {
   "cell_type": "markdown",
   "metadata": {},
   "source": [
    "### Task 2.6: Calculate the standard deviation of each vector of a matrix\n",
    "\n",
    "Write a function that calculates the standard deviation of each array in the matrix and returns an array of standard deviations (one standard deviation for each column). To do so, use the function you implemented in Part 1.\n",
    "Pass in the matrix with the temperature data and return the result. Provide a written interpretation of your results - is the standard deviation consistent across the seasons? "
   ]
  },
  {
   "cell_type": "code",
   "execution_count": 60,
   "metadata": {
    "collapsed": false
   },
   "outputs": [
    {
     "data": {
      "text/plain": [
       "[6.5047809200539595,\n",
       " 7.343868051591318,\n",
       " 8.263229231729458,\n",
       " 6.923791511078947,\n",
       " 6.272679973334109,\n",
       " 6.535713852025312,\n",
       " 5.020872148142359,\n",
       " 4.666617114845193,\n",
       " 7.552850823070421,\n",
       " 6.937959048194395,\n",
       " 8.715822138820615,\n",
       " 8.96890222245524]"
      ]
     },
     "execution_count": 60,
     "metadata": {},
     "output_type": "execute_result"
    }
   ],
   "source": [
    "def standard_deviation_matrix_columns(temp_matrix):\n",
    "    \n",
    "    temp_sum = 0.0\n",
    "    vector_mean = 0.0\n",
    "    std_dev_values = []   \n",
    "        \n",
    "    for temp_list in temp_matrix:\n",
    "        std_dev_values.append(standard_deviation(temp_list))\n",
    "    \n",
    "    return std_dev_values\n",
    "    \n",
    "# the call to your function\n",
    "standard_deviation_matrix_columns(temperature_matrix)"
   ]
  },
  {
   "cell_type": "markdown",
   "metadata": {},
   "source": [
    "**Your Interpretation:** \n",
    "Uses same formula structure as mean_matrix_columns but uses standard_deviation() function instead."
   ]
  }
 ],
 "metadata": {
  "anaconda-cloud": {},
  "kernelspec": {
   "display_name": "Python [Root]",
   "language": "python",
   "name": "Python [Root]"
  },
  "language_info": {
   "codemirror_mode": {
    "name": "ipython",
    "version": 3
   },
   "file_extension": ".py",
   "mimetype": "text/x-python",
   "name": "python",
   "nbconvert_exporter": "python",
   "pygments_lexer": "ipython3",
   "version": "3.5.2"
  }
 },
 "nbformat": 4,
 "nbformat_minor": 0
}
