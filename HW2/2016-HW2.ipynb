{
 "cells": [
  {
   "cell_type": "markdown",
   "metadata": {},
   "source": [
    "# Introduction to Data Science - Homework 2\n",
    "*CS 5963 / MATH 3900, University of Utah, http://datasciencecourse.net/*\n",
    "\n",
    "Due: Friday, September 9, 11:59pm.\n",
    "\n",
    "In this homework you will read in and analyze a movies dataset. First we'll do some basic analysis with vanilla Python, then we'll move on to doing more advanced analysis with [Pandas](http://pandas.pydata.org/pandas-docs/stable). \n"
   ]
  },
  {
   "cell_type": "markdown",
   "metadata": {},
   "source": [
    "## Your Data\n",
    "Fill out the following information: \n",
    "\n",
    "*First Name:*  Ty \n",
    "*Last Name:*   Clive\n",
    "*E-mail:*   u0389772@utah.edu\n",
    "*UID:*  u0389772\n"
   ]
  },
  {
   "cell_type": "markdown",
   "metadata": {},
   "source": [
    "## Part 1: Analyzing Data The Hard Way"
   ]
  },
  {
   "cell_type": "markdown",
   "metadata": {},
   "source": [
    "In this part we'll do some manual analysis of a movies dataset."
   ]
  },
  {
   "cell_type": "markdown",
   "metadata": {
    "collapsed": true
   },
   "source": [
    "### Task 1.1: Read in the data\n",
    "\n",
    "Parse the file [movies.csv](movies.csv) using the [csv library](https://docs.python.org/3/library/csv.html). Lab 4 and/or Homework 1 might be a good inspiration for this. \n",
    "\n",
    "We recommend that you store the header in a separate array. Make sure that at least the \"ratings\" and the \"votes\" columns are cast to the appropriate data types for doing calculations with them. "
   ]
  },
  {
   "cell_type": "code",
   "execution_count": 134,
   "metadata": {
    "collapsed": false
   },
   "outputs": [
    {
     "name": "stdout",
     "output_type": "stream",
     "text": [
      "['', 'title', 'year', 'length', 'budget', 'rating', 'votes', 'r1', 'r2', 'r3', 'r4', 'r5', 'r6', 'r7', 'r8', 'r9', 'r10', 'mpaa', 'Action', 'Animation', 'Comedy', 'Drama', 'Documentary', 'Romance', 'Short']\n"
     ]
    }
   ],
   "source": [
    "import csv\n",
    "\n",
    "data_values = []\n",
    "#rating = data_values[int(5)]\n",
    "#votes = data_values[int(6)]\n",
    "\n",
    "# import the csv library\n",
    "#import csv\n",
    "#open('movies.csv')\n",
    "#print(movies.csv)\n",
    "\n",
    "with open('movies.csv') as csvfile:\n",
    "    # note that we can interchangably use ' and \" in general\n",
    "    # for the quotechar, however we use ' so that we can use \" without escaping\n",
    "    filereader = csv.reader(csvfile, delimiter=',', quotechar='\"')\n",
    "    # the row here is an array\n",
    "    for row in filereader:\n",
    "        #print(\"Row: \" + str(row))\n",
    "        data_values.append(row)\n",
    "\n",
    "# Store the header in a separate array\n",
    "header = data_values.pop(0)\n",
    "   \n",
    "#print()    \n",
    "print(header)\n",
    "#print()\n",
    "#print(head(data_values)\n",
    "\n",
    "\n",
    "\n",
    "# initialize the top-level array\n",
    "movies = []\n",
    "header = []\n",
    "\n",
    "# your import code goes here"
   ]
  },
  {
   "cell_type": "markdown",
   "metadata": {
    "collapsed": true
   },
   "source": [
    "### Task 1.2:  Calculate movie stats\n",
    "\n",
    "In this task, you will calculate some statistics about movies. We suggest you implement your solutions for Tasks 1.2.1-1.2.3 in one code cell - you should be able to calculate this in a single iteration over the dataset.\n",
    "\n",
    "#### Task 1.2.1 Calcualte average ratings\n",
    "Compute the average rating for the movies and print the output. Also print the number of movies.\n",
    "Your output could look like this:\n",
    "    \n",
    "    Average rating: xxx.xxxx, Number of movies: xx\n",
    "\n",
    "#### Task 1.2.2: Calculate average rating for major movies\n",
    "\n",
    "Compute the average rating for the movies that have more than 500 votes in your loaded dataset and print the output. (We'll call these movies with more than 500 votes *major movies* from now on).\n",
    "\n",
    "Your output could look like this:\n",
    "    \n",
    "    Average rating of movies with more than 500 votes: xxx.xxxx, Number of major movies: xx\n",
    "\n",
    "#### Task 1.2.3: Find the highest rated major movie\n",
    "\n",
    "Find out which of the movies with more than 500 votes has the highest rating.\n",
    "\n",
    "Your output could look like this:\n",
    "    \n",
    "    Highest rating: xxx.xxxx, Title: MOVIE TITLE\n",
    " \n",
    "#### Task 1.2.4: Interpret the data\n",
    " * What's the size relationship of major movies to all movies?\n",
    " * Are major movies usually better than the average movies?"
   ]
  },
  {
   "cell_type": "code",
   "execution_count": 130,
   "metadata": {
    "collapsed": false
   },
   "outputs": [
    {
     "name": "stdout",
     "output_type": "stream",
     "text": [
      "Average rating:  5.932850241545932 , Number of movies:  58788\n",
      "Average rating of movies with more than 500 votes:  6.370579126664578 , Number of major movies:  6458\n",
      "Highest rating:  10.0 , Title:  Dimensia Minds Trilogy: The Hope Factor\n"
     ]
    }
   ],
   "source": [
    "#def movie_ratings():\n",
    "    \n",
    "    # Overall average of ratings\n",
    "\n",
    "def movie_ratings_overall_averages(movie_list):\n",
    "    \n",
    "    number_of_movies = len(movie_list)\n",
    "    ratings_total = 0.0\n",
    "    major_ratings_total = 0.0\n",
    "    major_movie_counter = 0\n",
    "    best_movie = \"\"\n",
    "    highest_rating = 0.0\n",
    "    \n",
    "    for movie in movie_list:\n",
    "        current_movie_rating = float(movie[5])\n",
    "        ratings_total += current_movie_rating\n",
    "        \n",
    "       \n",
    "        if int(movie[6]) > 500:\n",
    "            major_ratings_total += current_movie_rating\n",
    "            major_movie_counter += 1\n",
    "            \n",
    "            \n",
    "        # Highest rating check\n",
    "        if current_movie_rating > highest_rating: \n",
    "            highest_rating = current_movie_rating\n",
    "            best_movie = movie[1]\n",
    "\n",
    "        \n",
    "    \n",
    "    print(\"Average rating: \", ratings_total/number_of_movies, \", Number of movies: \", number_of_movies)\n",
    "    print(\"Average rating of movies with more than 500 votes: \", major_ratings_total/major_movie_counter, \", Number of major movies: \", major_movie_counter)\n",
    "    print(\"Highest rating: \", highest_rating, \", Title: \", best_movie)\n",
    "    \n",
    "movie_ratings_overall_averages(data_values)  "
   ]
  },
  {
   "cell_type": "markdown",
   "metadata": {},
   "source": [
    "**Your Interpretation**: \n",
    "I created a function that produces output to answer the three questions: (a) average rating for all movies, (b) average rating for popular movies (that got over 500 votes), and (c) the highest rating and title of highest rated movie. A list of variables were defined before I passed them into my function.\n",
    "\n",
    "Average rating for all movies -\n",
    "\n",
    "The first for loop stores the value for rating in \"current_movie_rating\" (float), and as the function iterates through it adds up all current_movie_ratings and stores them in ratings_total. The first print function divides the total_ratings variable by length of the matrix (header excluded from the first exercise). That returns the overall average rating for the entire list of movies.\n",
    "\n",
    "Average rating for major movies - \n",
    "\n",
    "The second part of the for loop has an if-qualifier that only counts movies with >500 votes (that's how we define whether a movie is major). The function stores current_movie_rating in variable major_ratings_total. I also created a counter to count how many major movies are iterated through in the for loop. In the second print function, major_ratings_total/ major_movie_counter accurately returns the mean.\n",
    "\n",
    "Highest rated major movie -\n",
    "\n",
    "I created a highest_rating variable, which stores the value of the highest rating that the for loop iterates through. I also created a variable called best_movie, which stores the movie title in position 1 on the same row as that rating.\n",
    "\n",
    "Interpretat the data 1.2.4 - \n",
    "\n",
    "There are 6458 major movies among 58788 movies. That means only ~10.99% of the movies that come out get over 500 votes. The average rating of major movies is 6.37 while the average rating of all movies is 5.93 (and presumably lower if you exclude the major movies). So on average, the major movies are more highly rated than movies are generally."
   ]
  },
  {
   "cell_type": "markdown",
   "metadata": {},
   "source": [
    "## Part 2: Pandas"
   ]
  },
  {
   "cell_type": "markdown",
   "metadata": {
    "collapsed": true
   },
   "source": [
    "In this part we will use the [Pandas library](http://pandas.pydata.org/pandas-docs/stable) for our analysis."
   ]
  },
  {
   "cell_type": "markdown",
   "metadata": {
    "collapsed": true
   },
   "source": [
    "### Task 2.1: Loading data\n",
    "\n",
    "Read in the data again. This time you should create a [Pandas DataFrame](http://pandas.pydata.org/pandas-docs/stable/generated/pandas.DataFrame.html). Print the head of the dataset. \n",
    " * How many data rows did you load? How many columns?\n",
    " * Of which data types are the columns? \n",
    " * Do you have to do manual data type conversions?"
   ]
  },
  {
   "cell_type": "code",
   "execution_count": 131,
   "metadata": {
    "collapsed": false
   },
   "outputs": [
    {
     "name": "stdout",
     "output_type": "stream",
     "text": [
      "<class 'pandas.core.frame.DataFrame'>\n",
      "RangeIndex: 58788 entries, 0 to 58787\n",
      "Data columns (total 25 columns):\n",
      "Unnamed: 0     58788 non-null int64\n",
      "title          58788 non-null object\n",
      "year           58788 non-null int64\n",
      "length         58788 non-null int64\n",
      "budget         5215 non-null float64\n",
      "rating         58788 non-null float64\n",
      "votes          58788 non-null int64\n",
      "r1             58788 non-null float64\n",
      "r2             58788 non-null float64\n",
      "r3             58788 non-null float64\n",
      "r4             58788 non-null float64\n",
      "r5             58788 non-null float64\n",
      "r6             58788 non-null float64\n",
      "r7             58788 non-null float64\n",
      "r8             58788 non-null float64\n",
      "r9             58788 non-null float64\n",
      "r10            58788 non-null float64\n",
      "mpaa           4924 non-null object\n",
      "Action         58788 non-null int64\n",
      "Animation      58788 non-null int64\n",
      "Comedy         58788 non-null int64\n",
      "Drama          58788 non-null int64\n",
      "Documentary    58788 non-null int64\n",
      "Romance        58788 non-null int64\n",
      "Short          58788 non-null int64\n",
      "dtypes: float64(12), int64(11), object(2)\n",
      "memory usage: 11.2+ MB\n"
     ]
    },
    {
     "name": "stderr",
     "output_type": "stream",
     "text": [
      "/Applications/anaconda/lib/python3.5/site-packages/numpy/lib/function_base.py:3834: RuntimeWarning: Invalid value encountered in percentile\n",
      "  RuntimeWarning)\n"
     ]
    },
    {
     "data": {
      "text/html": [
       "<div>\n",
       "<table border=\"1\" class=\"dataframe\">\n",
       "  <thead>\n",
       "    <tr style=\"text-align: right;\">\n",
       "      <th></th>\n",
       "      <th>Unnamed: 0</th>\n",
       "      <th>year</th>\n",
       "      <th>length</th>\n",
       "      <th>budget</th>\n",
       "      <th>rating</th>\n",
       "      <th>votes</th>\n",
       "      <th>r1</th>\n",
       "      <th>r2</th>\n",
       "      <th>r3</th>\n",
       "      <th>r4</th>\n",
       "      <th>...</th>\n",
       "      <th>r8</th>\n",
       "      <th>r9</th>\n",
       "      <th>r10</th>\n",
       "      <th>Action</th>\n",
       "      <th>Animation</th>\n",
       "      <th>Comedy</th>\n",
       "      <th>Drama</th>\n",
       "      <th>Documentary</th>\n",
       "      <th>Romance</th>\n",
       "      <th>Short</th>\n",
       "    </tr>\n",
       "  </thead>\n",
       "  <tbody>\n",
       "    <tr>\n",
       "      <th>count</th>\n",
       "      <td>58788.00000</td>\n",
       "      <td>58788.000000</td>\n",
       "      <td>58788.000000</td>\n",
       "      <td>5.215000e+03</td>\n",
       "      <td>58788.000000</td>\n",
       "      <td>58788.000000</td>\n",
       "      <td>58788.000000</td>\n",
       "      <td>58788.000000</td>\n",
       "      <td>58788.000000</td>\n",
       "      <td>58788.000000</td>\n",
       "      <td>...</td>\n",
       "      <td>58788.000000</td>\n",
       "      <td>58788.000000</td>\n",
       "      <td>58788.000000</td>\n",
       "      <td>58788.000000</td>\n",
       "      <td>58788.000000</td>\n",
       "      <td>58788.000000</td>\n",
       "      <td>58788.000000</td>\n",
       "      <td>58788.000000</td>\n",
       "      <td>58788.000000</td>\n",
       "      <td>58788.000000</td>\n",
       "    </tr>\n",
       "    <tr>\n",
       "      <th>mean</th>\n",
       "      <td>29394.50000</td>\n",
       "      <td>1976.133582</td>\n",
       "      <td>82.337875</td>\n",
       "      <td>1.341251e+07</td>\n",
       "      <td>5.932850</td>\n",
       "      <td>632.130384</td>\n",
       "      <td>7.014382</td>\n",
       "      <td>4.022377</td>\n",
       "      <td>4.721159</td>\n",
       "      <td>6.374847</td>\n",
       "      <td>...</td>\n",
       "      <td>13.875995</td>\n",
       "      <td>8.954208</td>\n",
       "      <td>16.854018</td>\n",
       "      <td>0.079744</td>\n",
       "      <td>0.062768</td>\n",
       "      <td>0.293784</td>\n",
       "      <td>0.371011</td>\n",
       "      <td>0.059060</td>\n",
       "      <td>0.080697</td>\n",
       "      <td>0.160883</td>\n",
       "    </tr>\n",
       "    <tr>\n",
       "      <th>std</th>\n",
       "      <td>16970.77815</td>\n",
       "      <td>23.735125</td>\n",
       "      <td>44.347717</td>\n",
       "      <td>2.335008e+07</td>\n",
       "      <td>1.553031</td>\n",
       "      <td>3829.621413</td>\n",
       "      <td>10.936759</td>\n",
       "      <td>5.960056</td>\n",
       "      <td>6.451629</td>\n",
       "      <td>7.586141</td>\n",
       "      <td>...</td>\n",
       "      <td>11.316963</td>\n",
       "      <td>9.440597</td>\n",
       "      <td>15.650722</td>\n",
       "      <td>0.270899</td>\n",
       "      <td>0.242547</td>\n",
       "      <td>0.455498</td>\n",
       "      <td>0.483080</td>\n",
       "      <td>0.235738</td>\n",
       "      <td>0.272371</td>\n",
       "      <td>0.367426</td>\n",
       "    </tr>\n",
       "    <tr>\n",
       "      <th>min</th>\n",
       "      <td>1.00000</td>\n",
       "      <td>1893.000000</td>\n",
       "      <td>1.000000</td>\n",
       "      <td>0.000000e+00</td>\n",
       "      <td>1.000000</td>\n",
       "      <td>5.000000</td>\n",
       "      <td>0.000000</td>\n",
       "      <td>0.000000</td>\n",
       "      <td>0.000000</td>\n",
       "      <td>0.000000</td>\n",
       "      <td>...</td>\n",
       "      <td>0.000000</td>\n",
       "      <td>0.000000</td>\n",
       "      <td>0.000000</td>\n",
       "      <td>0.000000</td>\n",
       "      <td>0.000000</td>\n",
       "      <td>0.000000</td>\n",
       "      <td>0.000000</td>\n",
       "      <td>0.000000</td>\n",
       "      <td>0.000000</td>\n",
       "      <td>0.000000</td>\n",
       "    </tr>\n",
       "    <tr>\n",
       "      <th>25%</th>\n",
       "      <td>14697.75000</td>\n",
       "      <td>1958.000000</td>\n",
       "      <td>74.000000</td>\n",
       "      <td>NaN</td>\n",
       "      <td>5.000000</td>\n",
       "      <td>11.000000</td>\n",
       "      <td>0.000000</td>\n",
       "      <td>0.000000</td>\n",
       "      <td>0.000000</td>\n",
       "      <td>0.000000</td>\n",
       "      <td>...</td>\n",
       "      <td>4.500000</td>\n",
       "      <td>4.500000</td>\n",
       "      <td>4.500000</td>\n",
       "      <td>0.000000</td>\n",
       "      <td>0.000000</td>\n",
       "      <td>0.000000</td>\n",
       "      <td>0.000000</td>\n",
       "      <td>0.000000</td>\n",
       "      <td>0.000000</td>\n",
       "      <td>0.000000</td>\n",
       "    </tr>\n",
       "    <tr>\n",
       "      <th>50%</th>\n",
       "      <td>29394.50000</td>\n",
       "      <td>1983.000000</td>\n",
       "      <td>90.000000</td>\n",
       "      <td>NaN</td>\n",
       "      <td>6.100000</td>\n",
       "      <td>30.000000</td>\n",
       "      <td>4.500000</td>\n",
       "      <td>4.500000</td>\n",
       "      <td>4.500000</td>\n",
       "      <td>4.500000</td>\n",
       "      <td>...</td>\n",
       "      <td>14.500000</td>\n",
       "      <td>4.500000</td>\n",
       "      <td>14.500000</td>\n",
       "      <td>0.000000</td>\n",
       "      <td>0.000000</td>\n",
       "      <td>0.000000</td>\n",
       "      <td>0.000000</td>\n",
       "      <td>0.000000</td>\n",
       "      <td>0.000000</td>\n",
       "      <td>0.000000</td>\n",
       "    </tr>\n",
       "    <tr>\n",
       "      <th>75%</th>\n",
       "      <td>44091.25000</td>\n",
       "      <td>1997.000000</td>\n",
       "      <td>100.000000</td>\n",
       "      <td>NaN</td>\n",
       "      <td>7.000000</td>\n",
       "      <td>112.000000</td>\n",
       "      <td>4.500000</td>\n",
       "      <td>4.500000</td>\n",
       "      <td>4.500000</td>\n",
       "      <td>4.500000</td>\n",
       "      <td>...</td>\n",
       "      <td>24.500000</td>\n",
       "      <td>14.500000</td>\n",
       "      <td>24.500000</td>\n",
       "      <td>0.000000</td>\n",
       "      <td>0.000000</td>\n",
       "      <td>1.000000</td>\n",
       "      <td>1.000000</td>\n",
       "      <td>0.000000</td>\n",
       "      <td>0.000000</td>\n",
       "      <td>0.000000</td>\n",
       "    </tr>\n",
       "    <tr>\n",
       "      <th>max</th>\n",
       "      <td>58788.00000</td>\n",
       "      <td>2005.000000</td>\n",
       "      <td>5220.000000</td>\n",
       "      <td>2.000000e+08</td>\n",
       "      <td>10.000000</td>\n",
       "      <td>157608.000000</td>\n",
       "      <td>100.000000</td>\n",
       "      <td>84.500000</td>\n",
       "      <td>84.500000</td>\n",
       "      <td>100.000000</td>\n",
       "      <td>...</td>\n",
       "      <td>100.000000</td>\n",
       "      <td>100.000000</td>\n",
       "      <td>100.000000</td>\n",
       "      <td>1.000000</td>\n",
       "      <td>1.000000</td>\n",
       "      <td>1.000000</td>\n",
       "      <td>1.000000</td>\n",
       "      <td>1.000000</td>\n",
       "      <td>1.000000</td>\n",
       "      <td>1.000000</td>\n",
       "    </tr>\n",
       "  </tbody>\n",
       "</table>\n",
       "<p>8 rows × 23 columns</p>\n",
       "</div>"
      ],
      "text/plain": [
       "        Unnamed: 0          year        length        budget        rating  \\\n",
       "count  58788.00000  58788.000000  58788.000000  5.215000e+03  58788.000000   \n",
       "mean   29394.50000   1976.133582     82.337875  1.341251e+07      5.932850   \n",
       "std    16970.77815     23.735125     44.347717  2.335008e+07      1.553031   \n",
       "min        1.00000   1893.000000      1.000000  0.000000e+00      1.000000   \n",
       "25%    14697.75000   1958.000000     74.000000           NaN      5.000000   \n",
       "50%    29394.50000   1983.000000     90.000000           NaN      6.100000   \n",
       "75%    44091.25000   1997.000000    100.000000           NaN      7.000000   \n",
       "max    58788.00000   2005.000000   5220.000000  2.000000e+08     10.000000   \n",
       "\n",
       "               votes            r1            r2            r3            r4  \\\n",
       "count   58788.000000  58788.000000  58788.000000  58788.000000  58788.000000   \n",
       "mean      632.130384      7.014382      4.022377      4.721159      6.374847   \n",
       "std      3829.621413     10.936759      5.960056      6.451629      7.586141   \n",
       "min         5.000000      0.000000      0.000000      0.000000      0.000000   \n",
       "25%        11.000000      0.000000      0.000000      0.000000      0.000000   \n",
       "50%        30.000000      4.500000      4.500000      4.500000      4.500000   \n",
       "75%       112.000000      4.500000      4.500000      4.500000      4.500000   \n",
       "max    157608.000000    100.000000     84.500000     84.500000    100.000000   \n",
       "\n",
       "           ...                 r8            r9           r10        Action  \\\n",
       "count      ...       58788.000000  58788.000000  58788.000000  58788.000000   \n",
       "mean       ...          13.875995      8.954208     16.854018      0.079744   \n",
       "std        ...          11.316963      9.440597     15.650722      0.270899   \n",
       "min        ...           0.000000      0.000000      0.000000      0.000000   \n",
       "25%        ...           4.500000      4.500000      4.500000      0.000000   \n",
       "50%        ...          14.500000      4.500000     14.500000      0.000000   \n",
       "75%        ...          24.500000     14.500000     24.500000      0.000000   \n",
       "max        ...         100.000000    100.000000    100.000000      1.000000   \n",
       "\n",
       "          Animation        Comedy         Drama   Documentary       Romance  \\\n",
       "count  58788.000000  58788.000000  58788.000000  58788.000000  58788.000000   \n",
       "mean       0.062768      0.293784      0.371011      0.059060      0.080697   \n",
       "std        0.242547      0.455498      0.483080      0.235738      0.272371   \n",
       "min        0.000000      0.000000      0.000000      0.000000      0.000000   \n",
       "25%        0.000000      0.000000      0.000000      0.000000      0.000000   \n",
       "50%        0.000000      0.000000      0.000000      0.000000      0.000000   \n",
       "75%        0.000000      1.000000      1.000000      0.000000      0.000000   \n",
       "max        1.000000      1.000000      1.000000      1.000000      1.000000   \n",
       "\n",
       "              Short  \n",
       "count  58788.000000  \n",
       "mean       0.160883  \n",
       "std        0.367426  \n",
       "min        0.000000  \n",
       "25%        0.000000  \n",
       "50%        0.000000  \n",
       "75%        0.000000  \n",
       "max        1.000000  \n",
       "\n",
       "[8 rows x 23 columns]"
      ]
     },
     "execution_count": 131,
     "metadata": {},
     "output_type": "execute_result"
    }
   ],
   "source": [
    "# import pandas\n",
    "import pandas as pd\n",
    "\n",
    "movies = pd.read_csv(\"movies.csv\")\n",
    "df = movies\n",
    "\n",
    "df.head()\n",
    "df.info()\n",
    "df.describe()"
   ]
  },
  {
   "cell_type": "markdown",
   "metadata": {},
   "source": [
    "**Your Interpretation**:\n",
    "I loaded 58787 rows with 25 cloumns. The column data types are ints, objects (string), and floats. All of the entries are non-null values, and fortunately I didn't have to do any data type conversions to get the appropriate summary statistics.\n"
   ]
  },
  {
   "cell_type": "markdown",
   "metadata": {
    "collapsed": false
   },
   "source": [
    "### Task 2.2: Calculate the average rating\n",
    "\n",
    "Compute the average rating for all movies and print the output in a formatted way.\n",
    "\n",
    "Your output could look like this:\n",
    "    \n",
    "    Average rating: xxx.xxxx"
   ]
  },
  {
   "cell_type": "raw",
   "metadata": {},
   "source": [
    "print(\"Average movie rating: \", (ratings total/number_of_movies))"
   ]
  },
  {
   "cell_type": "code",
   "execution_count": 102,
   "metadata": {
    "collapsed": false
   },
   "outputs": [
    {
     "name": "stdout",
     "output_type": "stream",
     "text": [
      "Average movie rating:  5.932850241545932\n"
     ]
    }
   ],
   "source": [
    "print(\"Average movie rating: \", movies['rating'].mean())"
   ]
  },
  {
   "cell_type": "markdown",
   "metadata": {
    "collapsed": false
   },
   "source": [
    "### Task 2.3: Compare the runtime\n",
    "\n",
    "Measure the runtime of the mean calculation using [Pandas](http://pandas.pydata.org/pandas-docs/stable).\n",
    "Compare it to the computation time for calculating the mean using a for loop (you can copy the relevant parts from part one).\n",
    "\n",
    "You can use [time.clock()](https://docs.python.org/3/library/time.html) to set timestamps before and after the execution of the code you want to measure, then you simply substract end time from start time.\n",
    "\n",
    "Print your results in a human readable way and add a metric to the output. Calculate the factor of the difference and print it. Note that the exact times and the factors will vary when you re-run this and especially between machines. \n",
    "\n",
    "E.g.:  \n",
    "    time using own code: xxx.xxx s  \n",
    "    time using Pandas: xxx.xxx s  \n",
    "    difference factor: xxx"
   ]
  },
  {
   "cell_type": "code",
   "execution_count": 106,
   "metadata": {
    "collapsed": false
   },
   "outputs": [
    {
     "name": "stdout",
     "output_type": "stream",
     "text": [
      "Average rating:  5.932850241545932 , Number of movies:  58788\n",
      "Average rating of movies with more than 500 votes:  6.370579126664578 , Number of major movies:  6458\n",
      "Highest rating:  10.0 , Title:  Dimensia Minds Trilogy: The Hope Factor\n",
      "My manual code is  178.05074626879377 times slower than Pandas\n"
     ]
    }
   ],
   "source": [
    "import time\n",
    "\n",
    "#using my code\n",
    "\n",
    "start_time1 = time.clock()\n",
    "\n",
    "movie_ratings_overall_average(data_values)\n",
    "\n",
    "end_time1 = time.clock()\n",
    "\n",
    "time1 = (end_time1 - start_time1)\n",
    "\n",
    "#using pandas\n",
    "\n",
    "start_time2 = time.clock()\n",
    "\n",
    "movies['rating'].mean()\n",
    "\n",
    "end_time2 = time.clock()\n",
    "\n",
    "time2 = (end_time2 - start_time2)\n",
    "\n",
    "print(\"My manual code is \", time1/time2, \"times slower than Pandas\")"
   ]
  },
  {
   "cell_type": "markdown",
   "metadata": {
    "collapsed": false
   },
   "source": [
    "### Task 2.4: Filter out rows\n",
    "\n",
    "The whole movies dataset has about 60k entries. Use pandas to filter your dataframe to contain only the major movies with more than 500 votes.\n",
    "\n",
    "Count and print the number of movies with more than 500 votes. \n",
    "\n",
    "E.g.:\n",
    "    xxx.xxx movies have more than 500 votes."
   ]
  },
  {
   "cell_type": "code",
   "execution_count": 108,
   "metadata": {
    "collapsed": false
   },
   "outputs": [
    {
     "name": "stdout",
     "output_type": "stream",
     "text": [
      "6458  movies have more than 500 votes.\n",
      "6458  movies have more than 500 votes.\n"
     ]
    }
   ],
   "source": [
    "movie_votes = movies['votes']\n",
    "majors_mask = movie_votes > 500\n",
    "majors = movie_votes[majors_mask]\n",
    "count_majors = majors.count()\n",
    "\n",
    "print(count_majors, \" movies have more than 500 votes.\")\n",
    "\n",
    "\n",
    "movie_votes2 = movies['votes']\n",
    "count_majors2 = movie_votes2[movie_votes2>500].count()\n",
    "\n",
    "print(count_majors2, \" movies have more than 500 votes.\")"
   ]
  },
  {
   "cell_type": "markdown",
   "metadata": {
    "collapsed": false
   },
   "source": [
    "### Task 2.5: Calculate the average rating for major movies\n",
    "\n",
    "Compute the average rating for the major movies.\n",
    "Your output could look like this:\n",
    "    \n",
    "    Average rating of movies with more than 500 votes: xxx.xxxx"
   ]
  },
  {
   "cell_type": "code",
   "execution_count": 115,
   "metadata": {
    "collapsed": false
   },
   "outputs": [
    {
     "name": "stdout",
     "output_type": "stream",
     "text": [
      "Average rating of movies with more than 500 votes:  6.370579126664578\n"
     ]
    }
   ],
   "source": [
    "# major movies mean \n",
    "movie_ratings = movies['rating']\n",
    "majors_ratings = movie_ratings[majors_mask]\n",
    "\n",
    "\n",
    "#major_movies_mean_rating = movie_ratings[movie_votes2>500].mean()\n",
    "\n",
    "print(\"Average rating of movies with more than 500 votes: \", majors_ratings.mean())"
   ]
  },
  {
   "cell_type": "markdown",
   "metadata": {
    "collapsed": false
   },
   "source": [
    "### Task 2.6: Find the highest rated major movie\n",
    "\n",
    "Find the highest rated major movie in the dataframe. Hint: [idxmax()](http://pandas.pydata.org/pandas-docs/stable/generated/pandas.Series.idxmax.html) could be a helpful function. \n",
    "\n",
    "Print the title and the rating.\n",
    "\n",
    "Your output could look like this:\n",
    "    \n",
    "    Highest rated movie: TITLE, rating: x.x\n"
   ]
  },
  {
   "cell_type": "code",
   "execution_count": 121,
   "metadata": {
    "collapsed": false,
    "scrolled": true
   },
   "outputs": [
    {
     "name": "stdout",
     "output_type": "stream",
     "text": [
      "Highest rated movie:  Godfather, The rating:  9.1\n"
     ]
    }
   ],
   "source": [
    "# highest rated movie\n",
    "\n",
    "highest_rating = majors_ratings.idxmax()\n",
    "\n",
    "print(\"Highest rated movie: \", movies.iloc[highest_rating].title, \"rating: \", movies.iloc[highest_rating].rating)"
   ]
  },
  {
   "cell_type": "markdown",
   "metadata": {
    "collapsed": false
   },
   "source": [
    "### Task 2.7: Filter out rows and count specific features\n",
    "\n",
    "From the major movies you filtered out in a previous task, find out how many are comedies.\n",
    "How many are dramas? How many are both, comedies and dramas? Hint: you can combine broadcasting statements with a boolean AND: `&`.\n",
    "\n",
    "Print the results, e.g.:  \n",
    "\n",
    "    xxx.xxx major movies are comedies.\n",
    "    xxx.xxx major movies are dramas.\n",
    "    xxx.xxx major movies are both, comedies and dramas."
   ]
  },
  {
   "cell_type": "code",
   "execution_count": 129,
   "metadata": {
    "collapsed": false
   },
   "outputs": [
    {
     "ename": "TypeError",
     "evalue": "unorderable types: str() > int()",
     "output_type": "error",
     "traceback": [
      "\u001b[0;31m---------------------------------------------------------------------------\u001b[0m",
      "\u001b[0;31mTypeError\u001b[0m                                 Traceback (most recent call last)",
      "\u001b[0;32m<ipython-input-129-7d165bd60730>\u001b[0m in \u001b[0;36m<module>\u001b[0;34m()\u001b[0m\n\u001b[1;32m      1\u001b[0m \u001b[0;31m# count genres\u001b[0m\u001b[0;34m\u001b[0m\u001b[0;34m\u001b[0m\u001b[0m\n\u001b[1;32m      2\u001b[0m \u001b[0;34m\u001b[0m\u001b[0m\n\u001b[0;32m----> 3\u001b[0;31m \u001b[0mmajor_comedies\u001b[0m \u001b[0;34m=\u001b[0m \u001b[0mmovies\u001b[0m\u001b[0;34m[\u001b[0m\u001b[0;34m(\u001b[0m\u001b[0;34m'votes'\u001b[0m \u001b[0;34m>\u001b[0m \u001b[0;36m500\u001b[0m\u001b[0;34m)\u001b[0m \u001b[0;34m&\u001b[0m \u001b[0;34m(\u001b[0m\u001b[0;34m'Comedy'\u001b[0m\u001b[0;34m==\u001b[0m\u001b[0;36m1\u001b[0m\u001b[0;34m)\u001b[0m\u001b[0;34m]\u001b[0m\u001b[0;34m\u001b[0m\u001b[0m\n\u001b[0m\u001b[1;32m      4\u001b[0m \u001b[0mmajor_dramas\u001b[0m \u001b[0;34m=\u001b[0m \u001b[0mmajors\u001b[0m\u001b[0;34m[\u001b[0m\u001b[0;34m(\u001b[0m\u001b[0;34m'votes'\u001b[0m \u001b[0;34m>\u001b[0m \u001b[0;36m500\u001b[0m\u001b[0;34m)\u001b[0m \u001b[0;34m&\u001b[0m \u001b[0;34m(\u001b[0m\u001b[0;34m'Drama'\u001b[0m\u001b[0;34m==\u001b[0m\u001b[0;36m1\u001b[0m\u001b[0;34m)\u001b[0m\u001b[0;34m]\u001b[0m\u001b[0;34m\u001b[0m\u001b[0m\n\u001b[1;32m      5\u001b[0m \u001b[0mmajor_comedy_dramas\u001b[0m \u001b[0;34m=\u001b[0m \u001b[0mmajors\u001b[0m\u001b[0;34m[\u001b[0m\u001b[0;34m(\u001b[0m\u001b[0;34m'votes'\u001b[0m \u001b[0;34m>\u001b[0m \u001b[0;36m500\u001b[0m\u001b[0;34m)\u001b[0m \u001b[0;34m&\u001b[0m \u001b[0;34m(\u001b[0m\u001b[0;34m'Comedy'\u001b[0m\u001b[0;34m==\u001b[0m\u001b[0;36m1\u001b[0m\u001b[0;34m)\u001b[0m \u001b[0;34m&\u001b[0m \u001b[0;34m(\u001b[0m\u001b[0;34m'Drama'\u001b[0m\u001b[0;34m==\u001b[0m\u001b[0;36m1\u001b[0m\u001b[0;34m)\u001b[0m\u001b[0;34m]\u001b[0m\u001b[0;34m\u001b[0m\u001b[0m\n",
      "\u001b[0;31mTypeError\u001b[0m: unorderable types: str() > int()"
     ]
    }
   ],
   "source": [
    "# count genres\n",
    "\n",
    "major_comedies = movies[('votes' > 500) & ('Comedy'==1)]\n",
    "major_dramas = movies[('votes' > 500) & ('Drama'==1)]\n",
    "major_comedy_dramas = movie[('votes' > 500) & ('Comedy'==1) & ('Drama'==1)]\n",
    "\n",
    "print(major_comedies.count(), \" major movies are comedies.\")\n",
    "print(major_dramas.count(), \" major movies are dramas.\")\n",
    "print(major_comedy_dramas(), \" major movies are comedy-dramas\")"
   ]
  },
  {
   "cell_type": "markdown",
   "metadata": {
    "collapsed": false
   },
   "source": [
    "### Task 2.8: Compare ratings of different categories\n",
    "\n",
    "Now we want to compare the ratings for comedies and dramas for major movies.\n",
    "\n",
    "Compute the average rating, maximum rating, minimum rating, standard deviation, and the median for each category. Hint: there is a function that does all of this in one line. \n",
    "\n",
    "What do these numbers tell us? Provide an interpretation."
   ]
  },
  {
   "cell_type": "code",
   "execution_count": null,
   "metadata": {
    "collapsed": false
   },
   "outputs": [],
   "source": [
    "# genre stats go here\n",
    "\n",
    "major_comedies.summary('ratings')\n",
    "major_dramas.summary('ratings')  "
   ]
  },
  {
   "cell_type": "markdown",
   "metadata": {},
   "source": [
    "**Your Interpretation**: \n",
    "\n",
    "I don't understand why Pandas doesn't take these functions. I interpret this as a suggestion that I should get more familiar with Pandas."
   ]
  },
  {
   "cell_type": "markdown",
   "metadata": {
    "collapsed": false
   },
   "source": [
    "### Task 2.9: Movies per year\n",
    "\n",
    "Calcluate how many major movies were made in each year.\n",
    "\n",
    "Print the number like this, sorted by year:\n",
    "\n",
    "    year   number of movies\n",
    "    1902    xxx\n",
    "    1903    xxx\n",
    "    ...     ...\n",
    "\n",
    "Use this data to render a line chart of the number of movies per year."
   ]
  },
  {
   "cell_type": "code",
   "execution_count": null,
   "metadata": {
    "collapsed": false
   },
   "outputs": [],
   "source": [
    "# cacluate number of movies "
   ]
  },
  {
   "cell_type": "code",
   "execution_count": null,
   "metadata": {
    "collapsed": false
   },
   "outputs": [],
   "source": [
    "# create the plot here"
   ]
  },
  {
   "cell_type": "markdown",
   "metadata": {},
   "source": [
    "### Task 2.10: Yearly average\n",
    "\n",
    "Compute the average rating per year for all major movies.  \n",
    "Use the numbers you computed to plot a line chart. Plot the year on the x-axis and the average rating on th y axis.  "
   ]
  },
  {
   "cell_type": "code",
   "execution_count": null,
   "metadata": {
    "collapsed": false
   },
   "outputs": [],
   "source": [
    "# create the plot here"
   ]
  },
  {
   "cell_type": "markdown",
   "metadata": {
    "collapsed": false
   },
   "source": [
    "### Task 2.11: Explore and Interpret\n",
    "\n",
    "Are old movies better? How could you explain this? Are there differences between the rating of major movies and all movies over time? Continue to explore and use plots to inform your answer. Interesting measures to consider are the total number of votes per year, the average number of votes for a movie in a particular year, etc. "
   ]
  },
  {
   "cell_type": "markdown",
   "metadata": {},
   "source": [
    "TODO: your interpretation and your open exploration"
   ]
  }
 ],
 "metadata": {
  "anaconda-cloud": {},
  "kernelspec": {
   "display_name": "Python [Root]",
   "language": "python",
   "name": "Python [Root]"
  },
  "language_info": {
   "codemirror_mode": {
    "name": "ipython",
    "version": 3
   },
   "file_extension": ".py",
   "mimetype": "text/x-python",
   "name": "python",
   "nbconvert_exporter": "python",
   "pygments_lexer": "ipython3",
   "version": "3.5.2"
  }
 },
 "nbformat": 4,
 "nbformat_minor": 0
}
